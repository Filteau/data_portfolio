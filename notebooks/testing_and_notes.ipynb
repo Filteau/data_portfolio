{
 "cells": [
  {
   "cell_type": "markdown",
   "id": "0f44bbea",
   "metadata": {},
   "source": [
    "# My file for messing about and figuring things out, also notes"
   ]
  },
  {
   "cell_type": "code",
   "execution_count": null,
   "id": "19256912",
   "metadata": {
    "vscode": {
     "languageId": "plaintext"
    }
   },
   "outputs": [],
   "source": [
    "# IMPORTS\n",
    "import yaml\n",
    "from pathlib import pathlib\n",
    "\n",
    "# from data_dir.data_file import some_func1"
   ]
  },
  {
   "cell_type": "code",
   "execution_count": null,
   "id": "2510ad3d",
   "metadata": {
    "vscode": {
     "languageId": "plaintext"
    }
   },
   "outputs": [],
   "source": [
    "def load_config_yaml(config_yaml_path=\"config.yaml\"):\n",
    "    '''\n",
    "    Loads the config from yaml in same dir\n",
    "    '''\n",
    "    try:\n",
    "        with open(config_yaml_path, \"r\") as yaml_file:\n",
    "            return yaml.safe_load(yaml_file)\n",
    "    except FileNotFoundError:\n",
    "        print(f\"[])\n"
   ]
  }
 ],
 "metadata": {
  "language_info": {
   "name": "python"
  }
 },
 "nbformat": 4,
 "nbformat_minor": 5
}
