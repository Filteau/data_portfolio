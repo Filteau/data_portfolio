{
 "cells": [
  {
   "cell_type": "code",
   "execution_count": null,
   "id": "90477ea7",
   "metadata": {},
   "outputs": [
    {
     "ename": "TypeError",
     "evalue": "'LocationsResponse' object is not iterable",
     "output_type": "error",
     "traceback": [
      "\u001b[31m---------------------------------------------------------------------------\u001b[39m",
      "\u001b[31mTypeError\u001b[39m                                 Traceback (most recent call last)",
      "\u001b[36mCell\u001b[39m\u001b[36m \u001b[39m\u001b[32mIn[1]\u001b[39m\u001b[32m, line 21\u001b[39m\n\u001b[32m     17\u001b[39m api_key = os.getenv(\u001b[33m\"\u001b[39m\u001b[33mOPENAQ_API_KEY\u001b[39m\u001b[33m\"\u001b[39m)\n\u001b[32m     20\u001b[39m \u001b[38;5;28;01mwith\u001b[39;00m OpenAQ(api_key) \u001b[38;5;28;01mas\u001b[39;00m client:\n\u001b[32m---> \u001b[39m\u001b[32m21\u001b[39m     location = \u001b[38;5;28;43miter\u001b[39;49m\u001b[43m(\u001b[49m\u001b[43mclient\u001b[49m\u001b[43m.\u001b[49m\u001b[43mlocations\u001b[49m\u001b[43m.\u001b[49m\u001b[43mget\u001b[49m\u001b[43m(\u001b[49m\u001b[32;43m2178\u001b[39;49m\u001b[43m)\u001b[49m\u001b[43m)\u001b[49m\n\u001b[32m     22\u001b[39m     client.close()\n\u001b[32m     24\u001b[39m     \u001b[38;5;28;01mfor\u001b[39;00m i \u001b[38;5;129;01min\u001b[39;00m location:\n",
      "\u001b[31mTypeError\u001b[39m: 'LocationsResponse' object is not iterable"
     ]
    }
   ],
   "source": [
    "'''\n",
    "Some notes on OpenAQ API usage\n",
    "- it uses ISO 3166 country codes\n",
    "- timeframe stuff is under https://docs.openaq.org/resources/measurements\n",
    "- micron stuff is under https://docs.openaq.org/resources/providers\n",
    "- all data stuff is also under https://docs.openaq.org/aws/about\n",
    "- API reference is under https://docs.openaq.org/api/operations\n",
    "'''\n",
    "\n",
    "import os\n",
    "from openaq import OpenAQ\n",
    "from dotenv import load_dotenv\n",
    "\n",
    "\n",
    "# load environment vars from .env\n",
    "load_dotenv()\n",
    "api_key = os.getenv(\"OPENAQ_API_KEY\")\n",
    "\n",
    "\n",
    "with OpenAQ(api_key) as client:\n",
    "    #location = iter(client.locations.get(2178))  <--- not iterable\n",
    "    location = client.locations.get(2178)\n",
    "    client.close()\n",
    "    print(location)"
   ]
  },
  {
   "cell_type": "code",
   "execution_count": null,
   "id": "865d2a52-891f-423d-aa4b-726decc39855",
   "metadata": {},
   "outputs": [],
   "source": []
  }
 ],
 "metadata": {
  "kernelspec": {
   "display_name": "Python 3 (ipykernel)",
   "language": "python",
   "name": "python3"
  },
  "language_info": {
   "codemirror_mode": {
    "name": "ipython",
    "version": 3
   },
   "file_extension": ".py",
   "mimetype": "text/x-python",
   "name": "python",
   "nbconvert_exporter": "python",
   "pygments_lexer": "ipython3",
   "version": "3.12.1"
  }
 },
 "nbformat": 4,
 "nbformat_minor": 5
}
